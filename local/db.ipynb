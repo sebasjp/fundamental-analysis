{
 "cells": [
  {
   "cell_type": "code",
   "execution_count": 1,
   "metadata": {},
   "outputs": [
    {
     "name": "stdout",
     "output_type": "stream",
     "text": [
      "Defaulting to user installation because normal site-packages is not writeable\n",
      "Collecting psycopg2\n",
      "  Downloading psycopg2-2.9.10.tar.gz (385 kB)\n",
      "\u001b[2K     \u001b[90m━━━━━━━━━━━━━━━━━━━━━━━━━━━━━━━━━━━━━━━\u001b[0m \u001b[32m385.7/385.7 kB\u001b[0m \u001b[31m3.2 MB/s\u001b[0m eta \u001b[36m0:00:00\u001b[0m00:01\u001b[0m00:01\u001b[0m\n",
      "\u001b[?25h  Preparing metadata (setup.py) ... \u001b[?25ldone\n",
      "\u001b[?25hBuilding wheels for collected packages: psycopg2\n",
      "  Building wheel for psycopg2 (setup.py) ... \u001b[?25ldone\n",
      "\u001b[?25h  Created wheel for psycopg2: filename=psycopg2-2.9.10-cp311-cp311-linux_x86_64.whl size=494812 sha256=ecd0d261ef414e8033368e13c0890b34f0313aba427ec06754d0e306561bcc12\n",
      "  Stored in directory: /home/sebasjp/.cache/pip/wheels/d9/83/60/e9660320860aef3c38a67dea6ff9538e4cad76502cb39ed280\n",
      "Successfully built psycopg2\n",
      "Installing collected packages: psycopg2\n",
      "Successfully installed psycopg2-2.9.10\n",
      "\n",
      "\u001b[1m[\u001b[0m\u001b[34;49mnotice\u001b[0m\u001b[1;39;49m]\u001b[0m\u001b[39;49m A new release of pip is available: \u001b[0m\u001b[31;49m24.0\u001b[0m\u001b[39;49m -> \u001b[0m\u001b[32;49m25.0.1\u001b[0m\n",
      "\u001b[1m[\u001b[0m\u001b[34;49mnotice\u001b[0m\u001b[1;39;49m]\u001b[0m\u001b[39;49m To update, run: \u001b[0m\u001b[32;49mpip install --upgrade pip\u001b[0m\n"
     ]
    }
   ],
   "source": [
    "!pip install psycopg2"
   ]
  },
  {
   "cell_type": "code",
   "execution_count": null,
   "metadata": {},
   "outputs": [
    {
     "name": "stdout",
     "output_type": "stream",
     "text": [
      "PostgreSQL 16.6 on x86_64-pc-linux-gnu, compiled by gcc (GCC) 14.2.1 20240912 (Red Hat 14.2.1-3), 64-bit\n"
     ]
    }
   ],
   "source": [
    "import psycopg2\n",
    "\n",
    "\n",
    "def main():\n",
    "    conn = psycopg2.connect('')\n",
    "\n",
    "    query_sql = 'SELECT VERSION()'\n",
    "\n",
    "    cur = conn.cursor()\n",
    "    cur.execute(query_sql)\n",
    "\n",
    "    version = cur.fetchone()[0]\n",
    "    print(version)\n",
    "\n",
    "\n",
    "if __name__ == \"__main__\":\n",
    "    main()"
   ]
  },
  {
   "cell_type": "code",
   "execution_count": null,
   "metadata": {},
   "outputs": [],
   "source": [
    "conn = psycopg2.connect('')\n",
    "cur = conn.cursor()"
   ]
  },
  {
   "cell_type": "code",
   "execution_count": 3,
   "metadata": {},
   "outputs": [
    {
     "name": "stdout",
     "output_type": "stream",
     "text": [
      "('properties',)\n"
     ]
    }
   ],
   "source": [
    "cur.execute(\"\"\"SELECT table_name FROM information_schema.tables\n",
    "       WHERE table_schema = 'public'\"\"\")\n",
    "for table in cur.fetchall():\n",
    "    print(table)"
   ]
  },
  {
   "cell_type": "code",
   "execution_count": null,
   "metadata": {},
   "outputs": [],
   "source": [
    "# import psycopg2\n",
    "# from psycopg2 import sql\n",
    "\n",
    "# # Conexión a la base de datos (modifica estos valores según tu configuración)\n",
    "# conn = psycopg2.connect(\n",
    "#     dbname=\"nombre_base_de_datos\",\n",
    "#     user=\"usuario\",\n",
    "#     password=\"contraseña\",\n",
    "#     host=\"localhost\",\n",
    "#     port=\"5432\"\n",
    "# )\n",
    "\n",
    "# # Crear un cursor para ejecutar consultas\n",
    "# cur = conn.cursor()\n",
    "\n",
    "# # Crear la tabla fundamental_analysis\n",
    "# create_table_query = \"\"\"\n",
    "# CREATE TABLE IF NOT EXISTS fundamental_analysis (\n",
    "#     uuid UUID PRIMARY KEY,\n",
    "#     timestamp TIMESTAMPTZ,\n",
    "#     ticker VARCHAR(10),\n",
    "#     num_competitors INT,\n",
    "#     pe_ratio_weight FLOAT,\n",
    "#     ps_ratio_weight FLOAT,\n",
    "#     pgp_ratio_weight FLOAT,\n",
    "#     pfcf_ratio_weight FLOAT\n",
    "# );\n",
    "# \"\"\"\n",
    "\n",
    "# # Ejecutar la consulta\n",
    "# cur.execute(create_table_query)\n",
    "\n",
    "# # Confirmar cambios y cerrar\n",
    "# conn.commit()\n"
   ]
  },
  {
   "cell_type": "code",
   "execution_count": null,
   "metadata": {},
   "outputs": [],
   "source": [
    "# import uuid\n",
    "# import datetime\n",
    "\n",
    "# # Diccionario de configuración proporcionado\n",
    "# config = {\n",
    "#   \"ticker\": \"NU\",\n",
    "#   \"financial_weights\": {\"income\": {\"growth\": 0.5, \"peers\": 0.5}},\n",
    "#   \"peers\": {\"custom\": None, \"n_competitors\": 5},\n",
    "#   \"multiples_weights\": {\"pe_ratio\": 0.25, \"ps_ratio\": 0.25, \"pgp_ratio\": 0.25, \"pfcf_ratio\": 0.25}\n",
    "# }\n",
    "\n",
    "# # Crear un UUID único para este registro\n",
    "# new_uuid = uuid.uuid4()\n",
    "\n",
    "# # Obtener la fecha y hora actual en formato UTC\n",
    "# timestamp = datetime.datetime.utcnow()\n",
    "\n",
    "# # Extraer los datos del diccionario\n",
    "# ticker = config[\"ticker\"]\n",
    "# num_competitors = config[\"peers\"][\"n_competitors\"]\n",
    "# multiples_weights = config[\"multiples_weights\"]\n",
    "# pe_ratio_weight = multiples_weights[\"pe_ratio\"]\n",
    "# ps_ratio_weight = multiples_weights[\"ps_ratio\"]\n",
    "# pgp_ratio_weight = multiples_weights[\"pgp_ratio\"]\n",
    "# pfcf_ratio_weight = multiples_weights[\"pfcf_ratio\"]\n",
    "\n",
    "# # Consulta SQL para insertar los datos\n",
    "# insert_query = \"\"\"\n",
    "# INSERT INTO fundamental_analysis (uuid, timestamp, ticker, num_competitors, \n",
    "#                                   pe_ratio_weight, ps_ratio_weight, pgp_ratio_weight, pfcf_ratio_weight)\n",
    "# VALUES (%s, %s, %s, %s, %s, %s, %s, %s);\n",
    "# \"\"\"\n",
    "\n",
    "# # Ejecutar la consulta con los valores correspondientes\n",
    "# cur.execute(insert_query, (new_uuid, timestamp, ticker, num_competitors, \n",
    "#                            pe_ratio_weight, ps_ratio_weight, pgp_ratio_weight, pfcf_ratio_weight))\n",
    "\n",
    "# # Confirmar los cambios en la base de datos\n",
    "# conn.commit()\n"
   ]
  }
 ],
 "metadata": {
  "kernelspec": {
   "display_name": "Python 3",
   "language": "python",
   "name": "python3"
  },
  "language_info": {
   "codemirror_mode": {
    "name": "ipython",
    "version": 3
   },
   "file_extension": ".py",
   "mimetype": "text/x-python",
   "name": "python",
   "nbconvert_exporter": "python",
   "pygments_lexer": "ipython3",
   "version": "3.11.11"
  }
 },
 "nbformat": 4,
 "nbformat_minor": 2
}
